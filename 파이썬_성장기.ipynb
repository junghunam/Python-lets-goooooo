{
  "nbformat": 4,
  "nbformat_minor": 0,
  "metadata": {
    "colab": {
      "provenance": [],
      "authorship_tag": "ABX9TyNy0of7ex+3DIVZm+v8f9Vq",
      "include_colab_link": true
    },
    "kernelspec": {
      "name": "python3",
      "display_name": "Python 3"
    },
    "language_info": {
      "name": "python"
    }
  },
  "cells": [
    {
      "cell_type": "markdown",
      "metadata": {
        "id": "view-in-github",
        "colab_type": "text"
      },
      "source": [
        "<a href=\"https://colab.research.google.com/github/junghunam/Python-lets-goooooo/blob/main/%ED%8C%8C%EC%9D%B4%EC%8D%AC_%EC%84%B1%EC%9E%A5%EA%B8%B0.ipynb\" target=\"_parent\"><img src=\"https://colab.research.google.com/assets/colab-badge.svg\" alt=\"Open In Colab\"/></a>"
      ]
    },
    {
      "cell_type": "code",
      "execution_count": null,
      "metadata": {
        "colab": {
          "base_uri": "https://localhost:8080/",
          "height": 35
        },
        "id": "rpUCrMEjrUg0",
        "outputId": "19827e20-e806-4af8-951d-21bb35e65aaf"
      },
      "outputs": [
        {
          "output_type": "execute_result",
          "data": {
            "text/plain": [
              "'No pain No gain'"
            ],
            "application/vnd.google.colaboratory.intrinsic+json": {
              "type": "string"
            }
          },
          "metadata": {},
          "execution_count": 1
        }
      ],
      "source": [
        "a = ['No', 'pain', 'No', 'gain']\n",
        "' '.join(a)\n"
      ]
    },
    {
      "cell_type": "markdown",
      "source": [
        "조건문"
      ],
      "metadata": {
        "id": "eIKRguS-avpr"
      }
    },
    {
      "cell_type": "code",
      "source": [
        "65 > 90"
      ],
      "metadata": {
        "colab": {
          "base_uri": "https://localhost:8080/"
        },
        "id": "XfK5uAI0Y6SS",
        "outputId": "860bd233-4614-4bfc-d4ca-3a1e0ed6630c"
      },
      "execution_count": null,
      "outputs": [
        {
          "output_type": "execute_result",
          "data": {
            "text/plain": [
              "False"
            ]
          },
          "metadata": {},
          "execution_count": 4
        }
      ]
    },
    {
      "cell_type": "code",
      "source": [
        "if 95 > 90:\n",
        "    print('95 > 90')"
      ],
      "metadata": {
        "colab": {
          "base_uri": "https://localhost:8080/"
        },
        "id": "QC0Ly-q-ayfb",
        "outputId": "07eeab64-a22c-4ddd-a2da-270b40158c21"
      },
      "execution_count": null,
      "outputs": [
        {
          "output_type": "stream",
          "name": "stdout",
          "text": [
            "95 > 90\n"
          ]
        }
      ]
    },
    {
      "cell_type": "code",
      "source": [
        "if 65 > 90:\n",
        "    print('65 > 90')"
      ],
      "metadata": {
        "id": "htQOOOTHaycB"
      },
      "execution_count": null,
      "outputs": []
    },
    {
      "cell_type": "code",
      "source": [
        "score = 80\n",
        "if score >=90:\n",
        "  print('합격입니다')\n",
        "else:\n",
        "  print('축하합니다')"
      ],
      "metadata": {
        "colab": {
          "base_uri": "https://localhost:8080/"
        },
        "id": "5TQDSaXBayZt",
        "outputId": "b46236a6-ff32-4d34-8458-968ba6a1884b"
      },
      "execution_count": null,
      "outputs": [
        {
          "output_type": "stream",
          "name": "stdout",
          "text": [
            "축하합니다\n"
          ]
        }
      ]
    },
    {
      "cell_type": "code",
      "source": [
        "money = 22500\n",
        "if money < 5000:\n",
        "    print('빵을 먹는다.') \n",
        "elif money < 15000: # 5000 <= money <15000\n",
        "    print('돈가스를 먹는다.')\n",
        "elif money < 20000: # 5000 <= money <15000\n",
        "    print('치킨을 먹는다.')\n",
        "elif money < 30000: # 5000 <= money <15000\n",
        "    print('초밥을 먹는다.')\n",
        "else: # money > 15000\n",
        "    print('초밥과 치킨을 먹는다.')"
      ],
      "metadata": {
        "colab": {
          "base_uri": "https://localhost:8080/"
        },
        "id": "kTM7FOYhayXN",
        "outputId": "87b7b880-bbb0-420f-924a-f9c78126b852"
      },
      "execution_count": null,
      "outputs": [
        {
          "output_type": "stream",
          "name": "stdout",
          "text": [
            "초밥을 먹는다.\n"
          ]
        }
      ]
    },
    {
      "cell_type": "code",
      "source": [
        "money = 3000\n",
        "if money < 5000:\n",
        "  pass \n",
        "elif money < 15000:\n",
        "  print('돈가스를 먹는다.')\n",
        "else:\n",
        "  print('치킨을 먹는다.')"
      ],
      "metadata": {
        "id": "KUwuzZ5cayUy"
      },
      "execution_count": null,
      "outputs": []
    },
    {
      "cell_type": "code",
      "source": [
        "hungry = True\n",
        "money = 1000\n",
        "if hungry:\n",
        "  if money < 5000:\n",
        "    print('김밥을 먹는다.')\n",
        "  else:\n",
        "    print('김치볶음밥을 먹는다.')\n",
        "else:\n",
        "  if money > 3000:\n",
        "    print('캔맥주를 산다')\n",
        "  else :\n",
        "    print('집에 가야지 뭐, 탄산수나 살까')"
      ],
      "metadata": {
        "colab": {
          "base_uri": "https://localhost:8080/"
        },
        "id": "zJDfacpwayP6",
        "outputId": "6fa49ad1-560c-41c0-b695-d2918eb1cc3a"
      },
      "execution_count": null,
      "outputs": [
        {
          "output_type": "stream",
          "name": "stdout",
          "text": [
            "김밥을 먹는다.\n"
          ]
        }
      ]
    },
    {
      "cell_type": "code",
      "source": [
        "for i in range(2,10):\n",
        "    for j in range(1,10):\n",
        "        print(i*j, end=' ')\n",
        "\n",
        "    print('')"
      ],
      "metadata": {
        "colab": {
          "base_uri": "https://localhost:8080/"
        },
        "id": "xlMgmTe-hjn5",
        "outputId": "f15986b3-8623-41c8-8dac-50ff673d66c6"
      },
      "execution_count": null,
      "outputs": [
        {
          "output_type": "stream",
          "name": "stdout",
          "text": [
            "2 4 6 8 10 12 14 16 18 \n",
            "3 6 9 12 15 18 21 24 27 \n",
            "4 8 12 16 20 24 28 32 36 \n",
            "5 10 15 20 25 30 35 40 45 \n",
            "6 12 18 24 30 36 42 48 54 \n",
            "7 14 21 28 35 42 49 56 63 \n",
            "8 16 24 32 40 48 56 64 72 \n",
            "9 18 27 36 45 54 63 72 81 \n"
          ]
        }
      ]
    },
    {
      "cell_type": "code",
      "source": [
        "print (1, end='')\n",
        "print (2, end=' ')\n",
        "\n",
        "print (3)\n",
        "print (4)"
      ],
      "metadata": {
        "colab": {
          "base_uri": "https://localhost:8080/"
        },
        "id": "JbC1CZB0hjlZ",
        "outputId": "ebc32980-f422-4cc2-b752-19dd7f9df639"
      },
      "execution_count": null,
      "outputs": [
        {
          "output_type": "stream",
          "name": "stdout",
          "text": [
            "12 3\n",
            "4\n"
          ]
        }
      ]
    },
    {
      "cell_type": "markdown",
      "source": [
        "함수"
      ],
      "metadata": {
        "id": "Jlj9fNBLAaj7"
      }
    },
    {
      "cell_type": "code",
      "source": [
        "A = [70, 60, 55, 75, 95, 90, 80, 80, 85, 100]\n",
        "total = 0\n",
        "\n",
        "for score in A:\n",
        "    total = total + score  # 리스트 A의 각 요소를 합계에 더합니다.\n",
        "a = total / 10  # 평균을 계산합니다.\n",
        "print(a)"
      ],
      "metadata": {
        "colab": {
          "base_uri": "https://localhost:8080/"
        },
        "id": "2WM_7XRphjix",
        "outputId": "b0385ad9-8a78-432e-a531-b06668f86259"
      },
      "execution_count": null,
      "outputs": [
        {
          "output_type": "stream",
          "name": "stdout",
          "text": [
            "79.0\n"
          ]
        }
      ]
    },
    {
      "cell_type": "code",
      "source": [
        "def numbers_avg(*args):\n",
        "    result = 0\n",
        "    for i in args:\n",
        "        result += i\n",
        "    return result / len(args)"
      ],
      "metadata": {
        "id": "LVQt2zBchjgS"
      },
      "execution_count": null,
      "outputs": []
    },
    {
      "cell_type": "code",
      "source": [
        "numbers_avg(1,2,3,4,5,6,7,8,9,10)"
      ],
      "metadata": {
        "colab": {
          "base_uri": "https://localhost:8080/"
        },
        "id": "AYmWq5JVhjdz",
        "outputId": "7f9c59e2-f9be-4984-bf6d-b82b896e10d4"
      },
      "execution_count": null,
      "outputs": [
        {
          "output_type": "execute_result",
          "data": {
            "text/plain": [
              "5.5"
            ]
          },
          "metadata": {},
          "execution_count": 143
        }
      ]
    },
    {
      "cell_type": "code",
      "source": [
        "def is_odd(number):\n",
        "    if number%2==0:\n",
        "        return True\n",
        "    else:\n",
        "        return False"
      ],
      "metadata": {
        "id": "Rxv0W2Imhjba"
      },
      "execution_count": null,
      "outputs": []
    },
    {
      "cell_type": "code",
      "source": [
        "is_odd(3)"
      ],
      "metadata": {
        "colab": {
          "base_uri": "https://localhost:8080/"
        },
        "id": "R_TmM6UphjZJ",
        "outputId": "b61d1cc4-e00e-49f8-a156-77846cc06b50"
      },
      "execution_count": null,
      "outputs": [
        {
          "output_type": "execute_result",
          "data": {
            "text/plain": [
              "False"
            ]
          },
          "metadata": {},
          "execution_count": 148
        }
      ]
    },
    {
      "cell_type": "markdown",
      "source": [
        "심화"
      ],
      "metadata": {
        "id": "J0Qwk0XcAceI"
      }
    },
    {
      "cell_type": "code",
      "source": [
        "people = ['김씨', '최씨', '이씨']\n",
        "i = 1\n",
        "for j in people:\n",
        "    print('번호:{},     성:{}'.format(i, j))\n",
        "    i = i + 1"
      ],
      "metadata": {
        "colab": {
          "base_uri": "https://localhost:8080/"
        },
        "id": "t5ouCO9ohjWr",
        "outputId": "64f6fc7e-74e0-4990-ffbd-f407a10fce77"
      },
      "execution_count": null,
      "outputs": [
        {
          "output_type": "stream",
          "name": "stdout",
          "text": [
            "번호:1,     성:김씨\n",
            "번호:2,     성:최씨\n",
            "번호:3,     성:이씨\n"
          ]
        }
      ]
    },
    {
      "cell_type": "code",
      "source": [
        "people = ['김씨', '최씨', '이씨']\n",
        "for x, y in enumerate(people):\n",
        "    print(x+1,y)"
      ],
      "metadata": {
        "colab": {
          "base_uri": "https://localhost:8080/"
        },
        "id": "WvUV4_omhjUP",
        "outputId": "1a199ba1-045d-4c00-c8ff-4b0552b33a09"
      },
      "execution_count": null,
      "outputs": [
        {
          "output_type": "stream",
          "name": "stdout",
          "text": [
            "1 김씨\n",
            "2 최씨\n",
            "3 이씨\n"
          ]
        }
      ]
    },
    {
      "cell_type": "code",
      "source": [
        "people = ['김씨', '최씨', '이씨']\n",
        "for number, name in enumerate(people):\n",
        "    print('번호: {}, 성: {}'.format(number+1, name))"
      ],
      "metadata": {
        "colab": {
          "base_uri": "https://localhost:8080/"
        },
        "id": "yIiMwZ7vhjLW",
        "outputId": "61862e87-9c06-4603-f397-092e2ace08a2"
      },
      "execution_count": null,
      "outputs": [
        {
          "output_type": "stream",
          "name": "stdout",
          "text": [
            "번호: 1, 성: 김씨\n",
            "번호: 2, 성: 최씨\n",
            "번호: 3, 성: 이씨\n"
          ]
        }
      ]
    },
    {
      "cell_type": "code",
      "source": [
        "list(zip([1, 2, 3], [4, 5,6],[7,8,9]))"
      ],
      "metadata": {
        "colab": {
          "base_uri": "https://localhost:8080/"
        },
        "id": "zvt4HMcOD9eo",
        "outputId": "92bc8007-eeac-48bd-be90-bf780dfcf9b9"
      },
      "execution_count": null,
      "outputs": [
        {
          "output_type": "execute_result",
          "data": {
            "text/plain": [
              "[(1, 4, 7), (2, 5, 8), (3, 6, 9)]"
            ]
          },
          "metadata": {},
          "execution_count": 187
        }
      ]
    },
    {
      "cell_type": "code",
      "source": [
        "a = [1.1, 2.3, 3.5, 4.1]\n",
        "map(str,a)\n",
        "list(map(str,a))"
      ],
      "metadata": {
        "colab": {
          "base_uri": "https://localhost:8080/"
        },
        "id": "8o3HfE7ND9ia",
        "outputId": "9c0d8515-0abc-4b39-bc6b-6b8b6f9ad94e"
      },
      "execution_count": null,
      "outputs": [
        {
          "output_type": "execute_result",
          "data": {
            "text/plain": [
              "['1.1', '2.3', '3.5', '4.1']"
            ]
          },
          "metadata": {},
          "execution_count": 190
        }
      ]
    },
    {
      "cell_type": "code",
      "source": [
        "list(map(lambda a:a*2, [1,2,3,4]))\n"
      ],
      "metadata": {
        "colab": {
          "base_uri": "https://localhost:8080/"
        },
        "id": "R_l9YLOCD9mN",
        "outputId": "b4cc6032-0a03-4479-d713-9ec452856940"
      },
      "execution_count": null,
      "outputs": [
        {
          "output_type": "execute_result",
          "data": {
            "text/plain": [
              "[2, 4, 6, 8]"
            ]
          },
          "metadata": {},
          "execution_count": 204
        }
      ]
    },
    {
      "cell_type": "markdown",
      "source": [
        "로또 자동 번호 추출\n",
        "(숫자 1~45 중 랜덤 6개 추출)"
      ],
      "metadata": {
        "id": "A8rbTMfClZJi"
      }
    },
    {
      "cell_type": "markdown",
      "source": [
        "self 풀이"
      ],
      "metadata": {
        "id": "pA9s_OCvusdW"
      }
    },
    {
      "cell_type": "code",
      "source": [
        "import random as rd"
      ],
      "metadata": {
        "id": "SZo0qoHlD9tt"
      },
      "execution_count": 82,
      "outputs": []
    },
    {
      "cell_type": "code",
      "source": [
        "rd.randrange(1,7)"
      ],
      "metadata": {
        "colab": {
          "base_uri": "https://localhost:8080/"
        },
        "id": "bD4h1dhDlwZg",
        "outputId": "e01eb3bf-5c78-4c2b-ad3b-00f49acb944c"
      },
      "execution_count": 83,
      "outputs": [
        {
          "output_type": "execute_result",
          "data": {
            "text/plain": [
              "2"
            ]
          },
          "metadata": {},
          "execution_count": 83
        }
      ]
    },
    {
      "cell_type": "code",
      "source": [
        "lotto = [0,0,0,0,0,0]\n",
        "lotto"
      ],
      "metadata": {
        "colab": {
          "base_uri": "https://localhost:8080/"
        },
        "id": "LCSCzShWlwby",
        "outputId": "a8c5f7d6-8da1-4c80-c514-d148c9a80a63"
      },
      "execution_count": 84,
      "outputs": [
        {
          "output_type": "execute_result",
          "data": {
            "text/plain": [
              "[0, 0, 0, 0, 0, 0]"
            ]
          },
          "metadata": {},
          "execution_count": 84
        }
      ]
    },
    {
      "cell_type": "code",
      "source": [
        "lotto[1] = 1\n",
        "lotto"
      ],
      "metadata": {
        "colab": {
          "base_uri": "https://localhost:8080/"
        },
        "id": "bBtWGRtilweW",
        "outputId": "a2144655-27fb-4b49-9593-1350b1a1f56c"
      },
      "execution_count": 56,
      "outputs": [
        {
          "output_type": "execute_result",
          "data": {
            "text/plain": [
              "[0, 1, 0, 0, 0, 0]"
            ]
          },
          "metadata": {},
          "execution_count": 56
        }
      ]
    },
    {
      "cell_type": "code",
      "source": [
        "lotto[0] = rd.randrange(1,46)\n",
        "lotto[1] = rd.randrange(1,46)\n",
        "lotto[2] = rd.randrange(1,46)\n",
        "lotto[3] = rd.randrange(1,46)\n",
        "lotto[4] = rd.randrange(1,46)\n",
        "lotto[5] = rd.randrange(1,46)\n",
        "lotto.sort()\n",
        "lotto"
      ],
      "metadata": {
        "colab": {
          "base_uri": "https://localhost:8080/"
        },
        "id": "uLsx7wBylwmB",
        "outputId": "659f2a44-c76e-4794-d8c7-920f2ff8a5ea"
      },
      "execution_count": 87,
      "outputs": [
        {
          "output_type": "execute_result",
          "data": {
            "text/plain": [
              "[1, 3, 8, 11, 12, 12]"
            ]
          },
          "metadata": {},
          "execution_count": 87
        }
      ]
    },
    {
      "cell_type": "markdown",
      "source": [
        "Cgpt"
      ],
      "metadata": {
        "id": "cL0B4jJktoee"
      }
    },
    {
      "cell_type": "code",
      "source": [
        "import random as rd\n",
        "\n",
        "lotto = []\n",
        "while len(lotto) < 6:\n",
        "    number = rd.randrange(1, 46)\n",
        "    if number not in lotto:\n",
        "        lotto.append(number)\n",
        "lotto"
      ],
      "metadata": {
        "colab": {
          "base_uri": "https://localhost:8080/"
        },
        "id": "euweURKzlwou",
        "outputId": "edf15af9-3d38-470f-cb61-8553b859e70d"
      },
      "execution_count": 70,
      "outputs": [
        {
          "output_type": "execute_result",
          "data": {
            "text/plain": [
              "[5, 33, 12, 16, 29, 20]"
            ]
          },
          "metadata": {},
          "execution_count": 70
        }
      ]
    },
    {
      "cell_type": "markdown",
      "source": [
        "강사 풀이"
      ],
      "metadata": {
        "id": "a_nH6EYntqvk"
      }
    },
    {
      "cell_type": "code",
      "source": [
        "lotto = [0,0,0,0,0,0]\n",
        "lotto[0] = rd.randrange(1,46)\n",
        "lotto[1] = lotto[0]\n",
        "lotto[2] = lotto[0]\n",
        "lotto[3] = lotto[0]\n",
        "lotto[4] = lotto[0]\n",
        "lotto[5] = lotto[0]\n",
        "\n",
        "while lotto[1] == lotto[0]: # while 만족하지 않을 때까지 실행\n",
        "    lotto[1] = rd.randrange(1, 46)\n",
        "\n",
        "while lotto[2] == lotto[0] or lotto[2] == lotto[1]:\n",
        "    lotto[2] = rd.randrange(1, 46)\n",
        "\n",
        "while lotto[3] == lotto[0] or lotto[3] == lotto[1] or lotto[3] == lotto[2]:\n",
        "    lotto[3] = rd.randrange(1, 46)\n",
        "\n",
        "while lotto[4] == lotto[0] or lotto[4] == lotto[1] or lotto[4] == lotto[2] or lotto[4] == lotto[3]:\n",
        "    lotto[4] = rd.randrange(1, 46)\n",
        "\n",
        "while lotto[5] == lotto[0] or lotto[5] == lotto[1] or lotto[5] == lotto[2] or lotto[5] == lotto[3] or lotto[5] == lotto[4]:\n",
        "    lotto[5] = rd.randrange(1, 46)\n",
        "    \n",
        "lotto.sort()\n",
        "print(lotto)"
      ],
      "metadata": {
        "colab": {
          "base_uri": "https://localhost:8080/"
        },
        "id": "1E8Zuif3lwre",
        "outputId": "713f2276-f133-48f8-cb69-209278939110"
      },
      "execution_count": 98,
      "outputs": [
        {
          "output_type": "stream",
          "name": "stdout",
          "text": [
            "[17, 20, 22, 25, 29, 32]\n"
          ]
        }
      ]
    },
    {
      "cell_type": "markdown",
      "source": [
        "n번 로또 번호 생성"
      ],
      "metadata": {
        "id": "T8ZF9LTpxKfC"
      }
    },
    {
      "cell_type": "code",
      "source": [
        "int(input('Lotto 게임 수를 입력하시오. : '))"
      ],
      "metadata": {
        "colab": {
          "base_uri": "https://localhost:8080/"
        },
        "id": "KIkSWxd5xayo",
        "outputId": "8502e2e1-6a5a-4e37-a492-4ffe68ab8ac2"
      },
      "execution_count": 102,
      "outputs": [
        {
          "name": "stdout",
          "output_type": "stream",
          "text": [
            "Lotto 게임 수를 입력하시오. : 2\n"
          ]
        },
        {
          "output_type": "execute_result",
          "data": {
            "text/plain": [
              "2"
            ]
          },
          "metadata": {},
          "execution_count": 102
        }
      ]
    },
    {
      "cell_type": "code",
      "source": [
        "num = int(input('Lotto 게임 수를 입력하시오. : '))\n",
        "# num = 2\n",
        "print('Lotto 당첨 번호입니다.')\n",
        "print('='*25)\n",
        "\n",
        "# 입력한 게임 수 만큼 반복\n",
        "\n",
        "for x in range(1, num+1):# 1부터 num까지 수행\n",
        "    lotto = [0, 0, 0, 0, 0, 0]\n",
        "    lotto[0] = rd.randrange(1, 46)\n",
        "    lotto[1] = lotto[0]\n",
        "    lotto[2] = lotto[0]\n",
        "    lotto[3] = lotto[0]\n",
        "    lotto[4] = lotto[0]\n",
        "    lotto[5] = lotto[0]\n",
        "\n",
        "# # 중복된 수 발생 방지\n",
        "    while lotto[1] == lotto[0]: # while 만족하지 않을 때까지 실행\n",
        "        lotto[1] = rd.randrange(1, 46)\n",
        "    while lotto[2] == lotto[0] or lotto[2] == lotto[1]:\n",
        "        lotto[2] = rd.randrange(1, 46)\n",
        "    while lotto[3] == lotto[0] or lotto[3] == lotto[1] or lotto[3] == lotto[2]:\n",
        "        lotto[3] = rd.randrange(1, 46)\n",
        "    while lotto[4] == lotto[0] or lotto[4] == lotto[1] or lotto[4] == lotto[2] or lotto[4] == lotto[3]:\n",
        "        lotto[4] = rd.randrange(1, 46)\n",
        "    while lotto[5] == lotto[0] or lotto[5] == lotto[1] or lotto[5] == lotto[2] or lotto[5] == lotto[3] or lotto[5] == lotto[4]:\n",
        "        lotto[5] = rd.randrange(1, 46)\n",
        "    lotto.sort()\n",
        "# 결과 출력\n",
        "    print(lotto)"
      ],
      "metadata": {
        "colab": {
          "base_uri": "https://localhost:8080/"
        },
        "id": "Vz4-Ium-xHXS",
        "outputId": "d903d473-9bc6-446a-af73-aa9a876d0f88"
      },
      "execution_count": 110,
      "outputs": [
        {
          "output_type": "stream",
          "name": "stdout",
          "text": [
            "Lotto 게임 수를 입력하시오. : 5\n",
            "Lotto 당첨 번호입니다.\n",
            "=========================\n",
            "[2, 5, 6, 7, 20, 30]\n",
            "[3, 9, 11, 21, 40, 44]\n",
            "[1, 9, 27, 29, 36, 42]\n",
            "[9, 14, 19, 22, 28, 34]\n",
            "[6, 12, 23, 24, 33, 42]\n"
          ]
        }
      ]
    },
    {
      "cell_type": "markdown",
      "source": [
        "주민번호 판독 프로그래밍"
      ],
      "metadata": {
        "id": "v4YMOiOl5Q11"
      }
    },
    {
      "cell_type": "code",
      "source": [
        "jb = '9912131411611'\n",
        "if jb[6:7]:\n",
        "    print('성별 : 남성')\n",
        "else:\n",
        "    print('성별 : 여성')\n",
        "    \n",
        "    \n"
      ],
      "metadata": {
        "colab": {
          "base_uri": "https://localhost:8080/"
        },
        "id": "nx0H_hZflwuF",
        "outputId": "ca1554e1-c119-4b4c-f0a4-1ccadba47b87"
      },
      "execution_count": 143,
      "outputs": [
        {
          "output_type": "stream",
          "name": "stdout",
          "text": [
            "성별 : 남성\n"
          ]
        }
      ]
    },
    {
      "cell_type": "code",
      "source": [
        "def check_jumin(jumin):\n",
        "    # 주민번호 유효성 검사\n",
        "    if len(jumin) != 13 or not jumin.isdigit():\n",
        "        return \"유효하지 않은 주민번호입니다.\"\n",
        "\n",
        "    # 생년월일 추출\n",
        "    birth_year = int(jumin[0:2])\n",
        "    birth_month = int(jumin[2:4])\n",
        "    birth_day = int(jumin[4:6])\n",
        "\n",
        "    # 성별 추출\n",
        "    gender = int(jumin[6])\n",
        "    if gender == 1 or gender == 3 :\n",
        "        gender = \"남성\"\n",
        "    else:\n",
        "        gender = \"여성\"\n",
        "\n",
        "    # 출생지역 추출\n",
        "    region_code = jumin[7:9]\n",
        "    region = get_region(region_code)\n",
        "\n",
        "    # 결과 반환\n",
        "    result = f\"생년월일: {birth_year}년 {birth_month}월 {birth_day}일\\n성별: {gender}\\n출생지역: {region}\"\n",
        "    return result\n",
        "\n",
        "\n",
        "def get_region(region_code):\n",
        "    # 출생지역 코드에 따라 지역명 반환\n",
        "    # 본 예시에서는 일부 지역만 예시로 나열하였습니다.\n",
        "    region_dict = {\n",
        "        \"41\": \"충청남도\",\n",
        "        \"42\": \"충청남도\",\n",
        "        \"43\": \"충청남도\",\n",
        "        \"44\": \"세종특별자치시\",\n",
        "        \"45\": \"충청남도\",\n",
        "        \"46\": \"충청남도\",\n",
        "        \"47\": \"충청남도\",\n",
        "    }\n",
        "\n",
        "    region = region_dict.get(region_code, \"알 수 없음\")\n",
        "    return region\n",
        "\n",
        "\n",
        "# 주민번호 입력 받기\n",
        "jumin_number = input(\"주민번호를 입력하세요 (13자리): \")\n",
        "\n",
        "# 주민번호 판독 및 결과 출력\n",
        "result = check_jumin(jumin_number)\n",
        "print(result)\n"
      ],
      "metadata": {
        "colab": {
          "base_uri": "https://localhost:8080/"
        },
        "id": "B2ab2csNlwxk",
        "outputId": "a767c37c-850f-4ae6-b3e4-a3d7f61d975f"
      },
      "execution_count": 174,
      "outputs": [
        {
          "output_type": "stream",
          "name": "stdout",
          "text": [
            "주민번호를 입력하세요 (13자리): 9912131411611\n",
            "생년월일: 99년 12월 13일\n",
            "성별: 남성\n",
            "출생지역: 충청남도\n"
          ]
        }
      ]
    },
    {
      "cell_type": "code",
      "source": [],
      "metadata": {
        "id": "KZkuDsHRD9xT"
      },
      "execution_count": null,
      "outputs": []
    }
  ]
}