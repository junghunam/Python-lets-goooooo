{
  "nbformat": 4,
  "nbformat_minor": 0,
  "metadata": {
    "colab": {
      "private_outputs": true,
      "provenance": [],
      "authorship_tag": "ABX9TyObkcZMNZVtzzIEFy/E5fAa",
      "include_colab_link": true
    },
    "kernelspec": {
      "name": "python3",
      "display_name": "Python 3"
    },
    "language_info": {
      "name": "python"
    }
  },
  "cells": [
    {
      "cell_type": "markdown",
      "metadata": {
        "id": "view-in-github",
        "colab_type": "text"
      },
      "source": [
        "<a href=\"https://colab.research.google.com/github/junghunam/Python-lets-goooooo/blob/main/%EC%97%B0%EB%B9%84%EC%99%80_%EB%8B%A4%EB%A5%B8_%EB%8D%B0%EC%9D%B4%ED%84%B0_%EA%B0%84%EC%9D%98_%EC%83%81%EA%B4%80%EA%B4%80%EA%B3%84_%EB%8F%84%EC%B6%9C.ipynb\" target=\"_parent\"><img src=\"https://colab.research.google.com/assets/colab-badge.svg\" alt=\"Open In Colab\"/></a>"
      ]
    },
    {
      "cell_type": "markdown",
      "source": [
        "분석데이터 개요\n",
        "\n",
        "1970~82년에 생산된 자동차의 연비와 관련된 정보를 담고있는 데이터 셋이다. 엔진 제조국가, 실린더수, 배기량 등 정보가 포함되어 잇다. 이 데이\n",
        "터를 통해 연비와 다른 데이터들 간의 연관성을 분석하여 연비에 영향을 미치는 요소를 시각화로 찾아 낸다."
      ],
      "metadata": {
        "id": "MVj_pdaumwuG"
      }
    },
    {
      "cell_type": "markdown",
      "source": [
        "단계1. 필요한 패키지 import"
      ],
      "metadata": {
        "id": "utQziyBTm123"
      }
    },
    {
      "cell_type": "code",
      "source": [
        "import pandas as pd\n",
        "import matplotlib.pyplot as plt\n",
        "import seaborn as sns"
      ],
      "metadata": {
        "id": "241MZtuQmvRZ"
      },
      "execution_count": null,
      "outputs": []
    },
    {
      "cell_type": "code",
      "source": [
        "import warnings # warnings 제어\n",
        "warnings.filterwarnings(action='ignore') # warnings 무시\n",
        "# warnings.filterwarnings(action='default') # warnings 표기"
      ],
      "metadata": {
        "id": "VGK0gVnRmvT6"
      },
      "execution_count": null,
      "outputs": []
    },
    {
      "cell_type": "markdown",
      "source": [
        "단계2. 분석할 Dataset 가져오기"
      ],
      "metadata": {
        "id": "8BwLfaj4nCtn"
      }
    },
    {
      "cell_type": "code",
      "source": [
        "data = sns.load_dataset('mpg') # mpg dataset load 및 data 변수에 할당\n",
        "data"
      ],
      "metadata": {
        "id": "1HJJ-92emvWt"
      },
      "execution_count": null,
      "outputs": []
    },
    {
      "cell_type": "markdown",
      "source": [
        "단계3. 데이터 확인"
      ],
      "metadata": {
        "id": "fa3uyk15nYr_"
      }
    },
    {
      "cell_type": "code",
      "source": [
        "data.info()"
      ],
      "metadata": {
        "id": "vSmVggF7mvcG"
      },
      "execution_count": null,
      "outputs": []
    },
    {
      "cell_type": "markdown",
      "source": [
        "단계4. 결측값 확인 및 처리"
      ],
      "metadata": {
        "id": "_P_Eft1fpQgD"
      }
    },
    {
      "cell_type": "code",
      "source": [
        "data.isnull()"
      ],
      "metadata": {
        "id": "FAciR9dlmvet"
      },
      "execution_count": null,
      "outputs": []
    },
    {
      "cell_type": "code",
      "source": [
        "data.isnull().sum()"
      ],
      "metadata": {
        "id": "L30MpT4XmvhS"
      },
      "execution_count": null,
      "outputs": []
    },
    {
      "cell_type": "code",
      "source": [
        "data.fillna(value = data.mean())"
      ],
      "metadata": {
        "id": "OFqAFx3jmvj2"
      },
      "execution_count": null,
      "outputs": []
    },
    {
      "cell_type": "markdown",
      "source": [
        "단계5. 데이터 가공"
      ],
      "metadata": {
        "id": "cpQNSMwKq89_"
      }
    },
    {
      "cell_type": "code",
      "source": [
        "import pandas as pd"
      ],
      "metadata": {
        "id": "ixnuCo0jmvmm"
      },
      "execution_count": null,
      "outputs": []
    },
    {
      "cell_type": "code",
      "source": [
        "data['mpg_level'] = data['mpg'].map(lambda x: 'low' if x < 17 else 'medium' if x < 29 else 'high')\n",
        "print(data)"
      ],
      "metadata": {
        "id": "OEu33JZSmvpo"
      },
      "execution_count": null,
      "outputs": []
    },
    {
      "cell_type": "markdown",
      "source": [],
      "metadata": {
        "id": "I0wsDwmpsVCY"
      }
    },
    {
      "cell_type": "markdown",
      "source": [
        "단계6. 시각적 탐색 - 카테고리별 데이터의 갯수 또는 비중 확인"
      ],
      "metadata": {
        "id": "8iI_Lk3CsV1y"
      }
    },
    {
      "cell_type": "code",
      "source": [],
      "metadata": {
        "id": "p0jdqlAksVZ_"
      },
      "execution_count": null,
      "outputs": []
    },
    {
      "cell_type": "code",
      "source": [],
      "metadata": {
        "id": "DFEDqZnXsVcm"
      },
      "execution_count": null,
      "outputs": []
    },
    {
      "cell_type": "code",
      "source": [],
      "metadata": {
        "id": "6JkVJofSsVfe"
      },
      "execution_count": null,
      "outputs": []
    },
    {
      "cell_type": "code",
      "source": [],
      "metadata": {
        "id": "J8JbjiKwsViH"
      },
      "execution_count": null,
      "outputs": []
    },
    {
      "cell_type": "code",
      "source": [],
      "metadata": {
        "id": "vJJxZR_4sVl4"
      },
      "execution_count": null,
      "outputs": []
    },
    {
      "cell_type": "code",
      "source": [],
      "metadata": {
        "id": "Ew-nC5MlmvsU"
      },
      "execution_count": null,
      "outputs": []
    },
    {
      "cell_type": "code",
      "source": [],
      "metadata": {
        "id": "2ce5VpK5mvvB"
      },
      "execution_count": null,
      "outputs": []
    }
  ]
}