{
  "nbformat": 4,
  "nbformat_minor": 0,
  "metadata": {
    "colab": {
      "private_outputs": true,
      "provenance": [],
      "authorship_tag": "ABX9TyM541UtLAto0wWErov5b9sc",
      "include_colab_link": true
    },
    "kernelspec": {
      "name": "python3",
      "display_name": "Python 3"
    },
    "language_info": {
      "name": "python"
    }
  },
  "cells": [
    {
      "cell_type": "markdown",
      "metadata": {
        "id": "view-in-github",
        "colab_type": "text"
      },
      "source": [
        "<a href=\"https://colab.research.google.com/github/junghunam/Python-lets-goooooo/blob/main/%EC%97%B0%EB%B9%84%EC%99%80_%EB%8B%A4%EB%A5%B8_%EB%8D%B0%EC%9D%B4%ED%84%B0_%EA%B0%84%EC%9D%98_%EC%83%81%EA%B4%80%EA%B4%80%EA%B3%84_%EB%8F%84%EC%B6%9C.ipynb\" target=\"_parent\"><img src=\"https://colab.research.google.com/assets/colab-badge.svg\" alt=\"Open In Colab\"/></a>"
      ]
    },
    {
      "cell_type": "markdown",
      "source": [
        "분석데이터 개요\n",
        "\n",
        "1970~82년에 생산된 자동차의 연비와 관련된 정보를 담고있는 데이터 셋이다. 엔진 제조국가, 실린더수, 배기량 등 정보가 포함되어 잇다. 이 데이\n",
        "터를 통해 연비와 다른 데이터들 간의 연관성을 분석하여 연비에 영향을 미치는 요소를 시각화로 찾아 낸다."
      ],
      "metadata": {
        "id": "MVj_pdaumwuG"
      }
    },
    {
      "cell_type": "markdown",
      "source": [
        "단계1. 필요한 패키지 import"
      ],
      "metadata": {
        "id": "utQziyBTm123"
      }
    },
    {
      "cell_type": "code",
      "source": [
        "import pandas as pd\n",
        "import matplotlib.pyplot as plt\n",
        "import seaborn as sns"
      ],
      "metadata": {
        "id": "241MZtuQmvRZ"
      },
      "execution_count": null,
      "outputs": []
    },
    {
      "cell_type": "code",
      "source": [
        "import warnings # warnings 제어\n",
        "warnings.filterwarnings(action='ignore') # warnings 무시\n",
        "# warnings.filterwarnings(action='default') # warnings 표기"
      ],
      "metadata": {
        "id": "VGK0gVnRmvT6"
      },
      "execution_count": null,
      "outputs": []
    },
    {
      "cell_type": "markdown",
      "source": [
        "단계2. 분석할 Dataset 가져오기"
      ],
      "metadata": {
        "id": "8BwLfaj4nCtn"
      }
    },
    {
      "cell_type": "code",
      "source": [
        "data = sns.load_dataset('mpg') # mpg dataset load 및 data 변수에 할당\n",
        "data"
      ],
      "metadata": {
        "id": "1HJJ-92emvWt"
      },
      "execution_count": null,
      "outputs": []
    },
    {
      "cell_type": "markdown",
      "source": [
        "단계3. 데이터 확인"
      ],
      "metadata": {
        "id": "fa3uyk15nYr_"
      }
    },
    {
      "cell_type": "code",
      "source": [
        "data.shape"
      ],
      "metadata": {
        "id": "_vWrLJalw-Vc"
      },
      "execution_count": null,
      "outputs": []
    },
    {
      "cell_type": "code",
      "source": [
        "data.columns"
      ],
      "metadata": {
        "id": "pMnqv7Yjw-Rw"
      },
      "execution_count": null,
      "outputs": []
    },
    {
      "cell_type": "code",
      "source": [
        "data.info()"
      ],
      "metadata": {
        "id": "vSmVggF7mvcG"
      },
      "execution_count": null,
      "outputs": []
    },
    {
      "cell_type": "markdown",
      "source": [
        "단계4. 결측값 확인 및 처리"
      ],
      "metadata": {
        "id": "_P_Eft1fpQgD"
      }
    },
    {
      "cell_type": "code",
      "source": [
        "data.isnull()"
      ],
      "metadata": {
        "id": "FAciR9dlmvet"
      },
      "execution_count": null,
      "outputs": []
    },
    {
      "cell_type": "code",
      "source": [
        "data.isnull().sum()"
      ],
      "metadata": {
        "id": "L30MpT4XmvhS"
      },
      "execution_count": null,
      "outputs": []
    },
    {
      "cell_type": "code",
      "source": [
        "data.horsepower.isnull() == True"
      ],
      "metadata": {
        "id": "HWt-t0CLy1-_"
      },
      "execution_count": null,
      "outputs": []
    },
    {
      "cell_type": "code",
      "source": [
        "data[data.horsepower.isnull() == True]"
      ],
      "metadata": {
        "id": "JiLJ0fh9y18k"
      },
      "execution_count": null,
      "outputs": []
    },
    {
      "cell_type": "code",
      "source": [
        "data.horsepower.isnull().sum() / len(data.horsepower)"
      ],
      "metadata": {
        "id": "oGl6TJEuzFq2"
      },
      "execution_count": null,
      "outputs": []
    },
    {
      "cell_type": "code",
      "source": [
        "data = data.dropna(how='any', axis=0) # how='any', axis=0 행삭제\n",
        "data"
      ],
      "metadata": {
        "id": "BrsZB3-tzIDj"
      },
      "execution_count": null,
      "outputs": []
    },
    {
      "cell_type": "markdown",
      "source": [
        "단계5. 데이터 가공"
      ],
      "metadata": {
        "id": "cpQNSMwKq89_"
      }
    },
    {
      "cell_type": "code",
      "source": [
        "data['mpg_level'] = data['mpg'].map(lambda x: 'low' if x<17 else 'high' if x>29 else 'medium')\n",
        "data"
      ],
      "metadata": {
        "id": "VWOvVN1xzdPg"
      },
      "execution_count": null,
      "outputs": []
    },
    {
      "cell_type": "code",
      "source": [
        "data['mpg_level_2'] = 0\n",
        "data"
      ],
      "metadata": {
        "id": "qm1o_2knzgOx"
      },
      "execution_count": null,
      "outputs": []
    },
    {
      "cell_type": "code",
      "source": [
        "for i in data.index:\n",
        "    if data['mpg'][i] < 17:\n",
        "        data['mpg_level_2'][i] = 'low'\n",
        "    elif data['mpg'][i] < 29:\n",
        "        data['mpg_level_2'][i] = 'medium'\n",
        "    else:\n",
        "        data['mpg_level_2'][i] = 'high'\n",
        "data"
      ],
      "metadata": {
        "id": "RzEoxZd6zkZb"
      },
      "execution_count": null,
      "outputs": []
    },
    {
      "cell_type": "markdown",
      "source": [
        "단계6. 시각적 탐색 - 카테고리별 데이터의 갯수 또는 비중 확인"
      ],
      "metadata": {
        "id": "8iI_Lk3CsV1y"
      }
    },
    {
      "cell_type": "code",
      "source": [
        "col_select = ['origin','cylinders','model_year', 'mpg_level'] # col_seclect라는 변수에 data의 columns명칭을 list 데\n",
        "for col in data.columns: # data의 columns의 전체를 반복수행하며 각 명칭을 col이라는 변수에 할당\n",
        "    # print(col)\n",
        "    if col in col_select: # col에 할당 된 값이 col_select에 존재하면 아래 문장 수행\n",
        "        plt.figure(figsize = (4,3))\n",
        "        sns.countplot(x= col, data = data) # col에 할당된 column이 x축에 그려짐\n",
        "        plt.title(f' {col} count') # f문자열 포메팅.\n",
        "        plt.show()\n",
        "    else: # 그외 col은 수행없이 pass\n",
        "        pass"
      ],
      "metadata": {
        "id": "DFEDqZnXsVcm"
      },
      "execution_count": null,
      "outputs": []
    },
    {
      "cell_type": "code",
      "source": [
        "col"
      ],
      "metadata": {
        "id": "6JkVJofSsVfe"
      },
      "execution_count": null,
      "outputs": []
    },
    {
      "cell_type": "code",
      "source": [
        "year = '2023'\n",
        "print(f'hello {year}')"
      ],
      "metadata": {
        "id": "J8JbjiKwsViH"
      },
      "execution_count": null,
      "outputs": []
    },
    {
      "cell_type": "code",
      "source": [
        "col_select = ['origin','cylinders','model_year', 'mpg_level'] # col_seclect라는 변수에 data의 columns명칭을 list 데\n",
        "i = 0 # subplot(행,열,우선순위) 함수로 우선순위의 초기값 설정\n",
        "plt.figure(figsize=(8,8))\n",
        "for col in data.columns: # data의 columns의 전체를 반복수행하며 각 명칭을 col이라는 변수에 할당\n",
        "    if col in col_select: # col에 할당 된 값이 col_select에 존재하면 아래 문장 수행\n",
        "        group = data.groupby(col)[col].count() # col별로 groupby하며, col별 count개수를 group이라는 변수에 할당\n",
        "        group = pd.DataFrame(group) # 데이터프레임형태로 변환\n",
        "        i = i+1 #우선순위가 1부터 시작하여 1씩 증가해야 함\n",
        "        plt.subplot(2,2,i)\n",
        "\n",
        "\n",
        "        plt.pie(group[col],labels=group.index, autopct='%.2f%%') # 데이터는 group의 col별로 pie차트를 그린다.\n",
        "        plt.title(col)\n",
        "    else: # 그외 col은 수행없이 pass\n",
        "        pass\n",
        "plt.show()"
      ],
      "metadata": {
        "id": "vJJxZR_4sVl4"
      },
      "execution_count": null,
      "outputs": []
    },
    {
      "cell_type": "markdown",
      "source": [
        "*두 변수의 상관관계 확인"
      ],
      "metadata": {
        "id": "VmtUjR1R0Kho"
      }
    },
    {
      "cell_type": "code",
      "source": [
        "sns.scatterplot(x='horsepower', y='acceleration', hue='origin', data=data)\n",
        "plt.show()"
      ],
      "metadata": {
        "id": "Ew-nC5MlmvsU"
      },
      "execution_count": null,
      "outputs": []
    },
    {
      "cell_type": "markdown",
      "source": [
        "[출력물 해석]\n",
        "\n",
        "모든 제조국가에서 horsepower와 acceleration는 음의 관계가 있다. (acceleration가 증가할 때 horsepower는 감소한다)"
      ],
      "metadata": {
        "id": "A2KfstrS0Og5"
      }
    },
    {
      "cell_type": "code",
      "source": [
        "sns.scatterplot(x='horsepower', y='acceleration', size='cylinders', hue='mpg_level', data=data,\n",
        "alpha=0.5, sizes=(3,200)\n",
        ")\n",
        "plt.show()"
      ],
      "metadata": {
        "id": "2ce5VpK5mvvB"
      },
      "execution_count": null,
      "outputs": []
    },
    {
      "cell_type": "markdown",
      "source": [
        "[출력물 해석] \n",
        "\n",
        "cylinders 컬럼을 포인트의 사이즈에 따라 확인함으로써 복합적인 정보를 얻을 수 있다.\n",
        "모든 제조국가의 horsepower와 acceleration에 음의 관계가 있다.\n",
        "mpg가 낮은 차량은 acceleration이 낮고 horsepower이 높다.\n",
        "실린더가 많은 차량은 acceleration가 낮고 horsepower이 높다."
      ],
      "metadata": {
        "id": "egQfHBrw0Z-1"
      }
    },
    {
      "cell_type": "code",
      "source": [
        "sns.scatterplot(x='weight', y='horsepower', hue='mpg_level', size='cylinders', data=data,\n",
        "alpha=0.5, sizes=(4,150))\n",
        "plt.show()"
      ],
      "metadata": {
        "id": "W0phm72y0e_9"
      },
      "execution_count": null,
      "outputs": []
    },
    {
      "cell_type": "markdown",
      "source": [
        "[출력물 해석]\n",
        "\n",
        "모든 제조국에서 weight와 horsepower는 양의 관계가 있다.\n",
        "mpg가 낮은 차량은 weight와 horsepower가 높다.\n",
        "실린더가 많은 차량은 weight와 horsepower가 높다."
      ],
      "metadata": {
        "id": "HNPIPxl00gxN"
      }
    }
  ]
}